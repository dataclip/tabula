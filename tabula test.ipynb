{
 "cells": [
  {
   "cell_type": "code",
   "execution_count": 2,
   "metadata": {},
   "outputs": [
    {
     "name": "stdout",
     "output_type": "stream",
     "text": [
      "Collecting tabula-py\n",
      "  Downloading tabula_py-2.1.0-py3-none-any.whl (10.4 MB)\n",
      "Collecting pandas>=0.25.3\n",
      "  Downloading pandas-1.0.3-cp37-cp37m-win_amd64.whl (8.7 MB)\n",
      "Requirement already satisfied: numpy in c:\\users\\bis\\anaconda3\\lib\\site-packages (from tabula-py) (1.18.1)\n",
      "Collecting distro\n",
      "  Downloading distro-1.5.0-py2.py3-none-any.whl (18 kB)\n",
      "Requirement already satisfied: python-dateutil>=2.6.1 in c:\\users\\bis\\anaconda3\\lib\\site-packages (from pandas>=0.25.3->tabula-py) (2.8.1)\n",
      "Requirement already satisfied: pytz>=2017.2 in c:\\users\\bis\\anaconda3\\lib\\site-packages (from pandas>=0.25.3->tabula-py) (2019.3)\n",
      "Requirement already satisfied: six>=1.5 in c:\\users\\bis\\appdata\\roaming\\python\\python37\\site-packages (from python-dateutil>=2.6.1->pandas>=0.25.3->tabula-py) (1.12.0)\n",
      "Installing collected packages: pandas, distro, tabula-py\n",
      "  Attempting uninstall: pandas\n",
      "    Found existing installation: pandas 0.24.2\n",
      "    Uninstalling pandas-0.24.2:\n",
      "      Successfully uninstalled pandas-0.24.2\n",
      "Successfully installed distro-1.5.0 pandas-1.0.3 tabula-py-2.1.0\n"
     ]
    }
   ],
   "source": [
    "!pip install tabula-py"
   ]
  },
  {
   "cell_type": "code",
   "execution_count": 4,
   "metadata": {},
   "outputs": [],
   "source": [
    "import tabula"
   ]
  },
  {
   "cell_type": "code",
   "execution_count": 11,
   "metadata": {},
   "outputs": [
    {
     "name": "stderr",
     "output_type": "stream",
     "text": [
      "'pages' argument isn't specified.Will extract only from page 1 by default.\n"
     ]
    },
    {
     "data": {
      "text/plain": [
       "[    x  Unnamed: 0   y  Unnamed: 1   z  Unnamed: 2\n",
       " 0 NaN           1 NaN           5 NaN           9\n",
       " 1 NaN           2 NaN           6 NaN          10\n",
       " 2 NaN           3 NaN           7 NaN          11\n",
       " 3 NaN           4 NaN           8 NaN          12\n",
       " 4 NaN           5 NaN           9 NaN          13\n",
       " 5 NaN           6 NaN          10 NaN          14\n",
       " 6 NaN           7 NaN          11 NaN          15\n",
       " 7 NaN           8 NaN          12 NaN          16\n",
       " 8 NaN           9 NaN          13 NaN          17,\n",
       "     t  Unnamed: 0   u  Unnamed: 1   v  Unnamed: 2\n",
       " 0 NaN           1 NaN           5 NaN           9\n",
       " 1 NaN           2 NaN           6 NaN          10\n",
       " 2 NaN           3 NaN           7 NaN          11\n",
       " 3 NaN           4 NaN           8 NaN          12\n",
       " 4 NaN           5 NaN           9 NaN          13\n",
       " 5 NaN           6 NaN          10 NaN          14\n",
       " 6 NaN           7 NaN          11 NaN          15\n",
       " 7 NaN           8 NaN          12 NaN          16\n",
       " 8 NaN           9 NaN          13 NaN          17]"
      ]
     },
     "execution_count": 11,
     "metadata": {},
     "output_type": "execute_result"
    }
   ],
   "source": [
    "tabula.read_pdf(\"test.pdf\", multiple_tables=True)"
   ]
  },
  {
   "cell_type": "code",
   "execution_count": null,
   "metadata": {},
   "outputs": [],
   "source": []
  },
  {
   "cell_type": "code",
   "execution_count": null,
   "metadata": {},
   "outputs": [],
   "source": []
  }
 ],
 "metadata": {
  "kernelspec": {
   "display_name": "Python 3",
   "language": "python",
   "name": "python3"
  },
  "language_info": {
   "codemirror_mode": {
    "name": "ipython",
    "version": 3
   },
   "file_extension": ".py",
   "mimetype": "text/x-python",
   "name": "python",
   "nbconvert_exporter": "python",
   "pygments_lexer": "ipython3",
   "version": "3.7.6"
  }
 },
 "nbformat": 4,
 "nbformat_minor": 4
}
